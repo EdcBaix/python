{
 "cells": [
  {
   "cell_type": "markdown",
   "metadata": {},
   "source": [
    "<h1>Syntax and Variables</h1>\n",
    "The basics of using Python in Jupyter Notebooks"
   ]
  },
  {
   "cell_type": "raw",
   "metadata": {},
   "source": [
    "This is a cell.\n",
    "\n",
    "Cells can be one of four types. Code, Markdown, Raw NBConvert, and Heading\n",
    "Most of your cells will be Code and Markdown, the other two are special cases.\n",
    "\n",
    "Markdown is written similarly to HTML. The above cell is a Markdown cell.\n",
    "Code is written in Python. The following cell is a Code cell.\n",
    "\n",
    "You can add more cells by clicking the plus sign in the toolbar."
   ]
  },
  {
   "cell_type": "markdown",
   "metadata": {},
   "source": [
    "<h2> I. Code cells run Python </h2>\n",
    "Every line in a code cell is a executable line in Python.<br>\n",
    "Python uses carriage returns to separate lines of code. <br>\n",
    "\n",
    "Example:\n",
    "This is a valid code block\n",
    ">x = 2 <br>\n",
    "print (x)\n",
    "\n",
    "But this is invalid\n",
    ">x = 2 print (x)\n"
   ]
  },
  {
   "cell_type": "code",
   "execution_count": null,
   "metadata": {},
   "outputs": [],
   "source": [
    "# The # mark is to comment a line in Python. It allows annotation\n",
    "# In Jupyter Notebooks, an entire cell can be annotation, as in the above cell.\n",
    "\n",
    "'''Or you might find comments like these multi line comments in triple quotes\n",
    "This is how Python marks code within a code block. Cells cannot be inserted in the\n",
    "middle of your code, so keep these options in mind.'''\n"
   ]
  },
  {
   "cell_type": "code",
   "execution_count": 2,
   "metadata": {},
   "outputs": [
    {
     "name": "stdout",
     "output_type": "stream",
     "text": [
      "2\n"
     ]
    }
   ],
   "source": [
    "# In this cell, you can experiment with line breaks in Python.\n",
    "\n",
    "x = 2\n",
    "print (x)\n"
   ]
  },
  {
   "cell_type": "markdown",
   "metadata": {},
   "source": [
    "<h2> Indentation </h2>\n",
    "\n",
    "Indentation is used to continue from a previous line while respecting the line break.<br>\n",
    "Conditional and iterative code uses a colon mark, the <b>:</b>, to declare it will read another line.<br> The indentation marks that it is subordinate code to an above statement. <br>"
   ]
  },
  {
   "cell_type": "code",
   "execution_count": 14,
   "metadata": {},
   "outputs": [
    {
     "name": "stdout",
     "output_type": "stream",
     "text": [
      "x is two!\n"
     ]
    }
   ],
   "source": [
    "# Example code\n",
    "# Conditional If-statements end with : and are followed by indented lines that run if the condition is true\n",
    "\n",
    "x = 2\n",
    "if x == 4:\n",
    "    print(\"x is four!\")\n",
    "if x == 2:\n",
    "    print(\"x is two!\")"
   ]
  },
  {
   "cell_type": "markdown",
   "metadata": {},
   "source": [
    "<h2> Jupyter allows cells to build off each other </h2>\n",
    "Any cell that has run can be referenced in other cells. <br>\n",
    "Below, the two cells must be run in the correct order to properly print the value.<br>\n",
    "\n",
    "In this case, the naming of value must come before the print statement"
   ]
  },
  {
   "cell_type": "code",
   "execution_count": 1,
   "metadata": {},
   "outputs": [
    {
     "ename": "NameError",
     "evalue": "name 'value' is not defined",
     "output_type": "error",
     "traceback": [
      "\u001b[1;31m---------------------------------------------------------------------------\u001b[0m",
      "\u001b[1;31mNameError\u001b[0m                                 Traceback (most recent call last)",
      "\u001b[1;32m<ipython-input-1-a458d288e6eb>\u001b[0m in \u001b[0;36m<module>\u001b[1;34m\u001b[0m\n\u001b[1;32m----> 1\u001b[1;33m \u001b[0mprint\u001b[0m\u001b[1;33m(\u001b[0m\u001b[0mvalue\u001b[0m\u001b[1;33m)\u001b[0m\u001b[1;33m\u001b[0m\u001b[1;33m\u001b[0m\u001b[0m\n\u001b[0m",
      "\u001b[1;31mNameError\u001b[0m: name 'value' is not defined"
     ]
    }
   ],
   "source": [
    "print(value)"
   ]
  },
  {
   "cell_type": "code",
   "execution_count": null,
   "metadata": {},
   "outputs": [],
   "source": [
    "value = 3"
   ]
  },
  {
   "cell_type": "markdown",
   "metadata": {
    "scrolled": false
   },
   "source": [
    "<h2> II. Error Types</h2>\n",
    "In Python we have three types of errors<br>\n",
    "Syntax, Runtime, and Logic errors"
   ]
  },
  {
   "cell_type": "markdown",
   "metadata": {},
   "source": [
    "<h5>Syntax Errors</h5>\n",
    "Syntax errors occur when we have written code that Python does not know how to execute. <br>\n",
    "These can be missing or extra characters, unexpected breaks or insertions, or they could be incorrect usage of any particular method. <br>They can be hard to find, but the error message usually reveals where the problems exist. "
   ]
  },
  {
   "cell_type": "code",
   "execution_count": 3,
   "metadata": {
    "scrolled": true
   },
   "outputs": [
    {
     "ename": "SyntaxError",
     "evalue": "invalid syntax (<ipython-input-3-c7ed655255a6>, line 3)",
     "output_type": "error",
     "traceback": [
      "\u001b[1;36m  File \u001b[1;32m\"<ipython-input-3-c7ed655255a6>\"\u001b[1;36m, line \u001b[1;32m3\u001b[0m\n\u001b[1;33m    i =\u001b[0m\n\u001b[1;37m       ^\u001b[0m\n\u001b[1;31mSyntaxError\u001b[0m\u001b[1;31m:\u001b[0m invalid syntax\n"
     ]
    }
   ],
   "source": [
    "#Synatx Error\n",
    "#This line is meant to name the value of i to 3, but it has an unexpected line break\n",
    "i =\n",
    "3\n"
   ]
  },
  {
   "cell_type": "markdown",
   "metadata": {},
   "source": [
    "<h5>Runtime Errors</h5>\n",
    "Runtime errors occur when a line of code breaks as we try to use it. <br>\n",
    "These can be unhandled conditional statements or infinite loop problems. <br>They are typically emergent problems from code that cannot handle all the situations that it is being used for.<br>\n",
    "Application crashes are usually some kind of runtime error"
   ]
  },
  {
   "cell_type": "code",
   "execution_count": 8,
   "metadata": {
    "scrolled": false
   },
   "outputs": [
    {
     "ename": "IndexError",
     "evalue": "tuple index out of range",
     "output_type": "error",
     "traceback": [
      "\u001b[1;31m---------------------------------------------------------------------------\u001b[0m",
      "\u001b[1;31mIndexError\u001b[0m                                Traceback (most recent call last)",
      "\u001b[1;32m<ipython-input-8-bf6c4612f77e>\u001b[0m in \u001b[0;36m<module>\u001b[1;34m\u001b[0m\n\u001b[0;32m      3\u001b[0m \u001b[1;31m#The syntax is valid, but breaks when it tries to actually reference the value\u001b[0m\u001b[1;33m\u001b[0m\u001b[1;33m\u001b[0m\u001b[1;33m\u001b[0m\u001b[0m\n\u001b[0;32m      4\u001b[0m \u001b[0mi\u001b[0m \u001b[1;33m=\u001b[0m \u001b[1;33m(\u001b[0m\u001b[1;36m1\u001b[0m\u001b[1;33m,\u001b[0m\u001b[1;36m2\u001b[0m\u001b[1;33m,\u001b[0m\u001b[1;36m3\u001b[0m\u001b[1;33m,\u001b[0m\u001b[1;36m4\u001b[0m\u001b[1;33m,\u001b[0m\u001b[1;36m5\u001b[0m\u001b[1;33m)\u001b[0m\u001b[1;33m\u001b[0m\u001b[1;33m\u001b[0m\u001b[0m\n\u001b[1;32m----> 5\u001b[1;33m \u001b[0mprint\u001b[0m \u001b[1;33m(\u001b[0m\u001b[0mi\u001b[0m\u001b[1;33m[\u001b[0m\u001b[1;36m7\u001b[0m\u001b[1;33m]\u001b[0m\u001b[1;33m)\u001b[0m\u001b[1;33m\u001b[0m\u001b[1;33m\u001b[0m\u001b[0m\n\u001b[0m",
      "\u001b[1;31mIndexError\u001b[0m: tuple index out of range"
     ]
    }
   ],
   "source": [
    "#Runtime error\n",
    "#This code tries to reference a value within i that does not exist. \n",
    "#i only has 5 values, but we try to reference a 7th\n",
    "#The syntax is valid, but breaks when it tries to actually reference the value\n",
    "\n",
    "i = (1,2,3,4,5)\n",
    "print (i[7])"
   ]
  },
  {
   "cell_type": "markdown",
   "metadata": {},
   "source": [
    "<h5>Logical Errors</h5>\n",
    "Logical errors are errors of execution. <br>\n",
    "The program will run, it will have no syntax errors or runtime error <br>\n",
    "The output is not expected<br>\n",
    "The logic of the code is incorrect.\n",
    "It's vital to look through code and know what it is supposed to do to prevent these"
   ]
  },
  {
   "cell_type": "code",
   "execution_count": 10,
   "metadata": {
    "scrolled": false
   },
   "outputs": [
    {
     "name": "stdout",
     "output_type": "stream",
     "text": [
      "The average is\n",
      "10.0\n"
     ]
    }
   ],
   "source": [
    "#Logical Error\n",
    "#This code purports to show the average of two values.\n",
    "#But its logic is incorrect, leading to the wrong calculation.\n",
    "\n",
    "x = 5\n",
    "y = 10\n",
    "average = x + y / 2\n",
    "print(\"The average is\")\n",
    "print(average)"
   ]
  },
  {
   "cell_type": "markdown",
   "metadata": {},
   "source": [
    "<h2> III. Variables <h2>\n",
    "Variables exist in Python through naming."
   ]
  },
  {
   "cell_type": "code",
   "execution_count": null,
   "metadata": {},
   "outputs": [],
   "source": []
  }
 ],
 "metadata": {
  "kernelspec": {
   "display_name": "Python 3",
   "language": "python",
   "name": "python3"
  },
  "language_info": {
   "codemirror_mode": {
    "name": "ipython",
    "version": 3
   },
   "file_extension": ".py",
   "mimetype": "text/x-python",
   "name": "python",
   "nbconvert_exporter": "python",
   "pygments_lexer": "ipython3",
   "version": "3.7.4"
  }
 },
 "nbformat": 4,
 "nbformat_minor": 4
}
