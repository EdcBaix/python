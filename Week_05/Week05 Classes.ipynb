{
 "cells": [
  {
   "cell_type": "markdown",
   "metadata": {},
   "source": [
    "# 'Class' Lecture Notes \n",
    "\n",
    "* What is a Class?\n",
    "* Objects, a reminder\n",
    "* Creating a Class\n",
    "* Using Class\n",
    "* Extending Class\n",
    "* Method Objects\n",
    "* Constructors & \"Magic\" Methods\n",
    "* Object Oriented Programming\n"
   ]
  },
  {
   "cell_type": "markdown",
   "metadata": {},
   "source": [
    "## What is a Class?\n",
    "\n",
    "Where objects are direct collections of data and methods that are performed on that data, <b> a Class is a blueprint for a collection of data.</b> When we write a Class, we are writing code that creates spaces and expectations for certain types of data as well as methods that can run on that data. It is essentially a pattern that allows us to write more performant code and lets us scale the complexity of our projects if we use them right. And thanks to Python, object and class creation are built in features of the language. This means that we can create several objects of that blueprint. Objects of classes are called <i>instances.</i>\n",
    "\n",
    "An instance of a class has access to all of the things that the declaration, the blueprint, defines for the class. With this we can actually separate the behavior of our code from the actual execution of it.\n",
    "\n",
    "This separation means that Classes have two parts to them, declaration and instantiation. Declaration is where we will make the blueprints and the details of the class. Instantiation will be creating objects of the Class. "
   ]
  },
  {
   "cell_type": "code",
   "execution_count": 4,
   "metadata": {},
   "outputs": [],
   "source": [
    "#Declaration\n",
    "class ClassName:\n",
    "    def __init__(self):\n",
    "        return\n",
    "\n",
    "#Instantiation\n",
    "classObject = ClassName()\n",
    "anotherClassObject = ClassName()"
   ]
  },
  {
   "cell_type": "markdown",
   "metadata": {},
   "source": [
    "## Objects, a reminder\n",
    "\n",
    "An Object is <b>any named element</b> in Python. From the integers to floats, to Dictionary or tuple, these are all Objects when they become named. Keep this in mind because we will be creating Objects with the class blueprints."
   ]
  },
  {
   "cell_type": "markdown",
   "metadata": {},
   "source": [
    "## Creating a Class\n",
    "\n",
    "Classes contain four principle pieces: <b>name, properties, constructor, and methods.</b>\n",
    "\n",
    "Remember, they're a pattern that we implement to control our code. So these pieces have to be followed for the Class to be valid. \n",
    "\n",
    "For this section, keep this block of example code in mind. This is an abstract example of a class declaration that can be filled with any specific version of a class. We will break down each section afterwards."
   ]
  },
  {
   "cell_type": "code",
   "execution_count": 6,
   "metadata": {},
   "outputs": [],
   "source": [
    "#An Example Class Declaration\n",
    "\n",
    "#Class Name is declared first\n",
    "class ClassName:\n",
    "    #Declare any class-wide variables here\n",
    "    sharedObject = 1\n",
    "    \n",
    "    #Initializing function, or Constructor function\n",
    "    def __init__(self):\n",
    "        return\n",
    "    \n",
    "    #Class specific method declaration\n",
    "    def method(self):\n",
    "        #Method body goes here\n",
    "        return\n"
   ]
  },
  {
   "cell_type": "markdown",
   "metadata": {},
   "source": [
    "### Name\n",
    "\n",
    "A Class has to have a name. This is how we are going to reference it when we create it.\n",
    "Class Names should be descriptive! We are not allowed to declare two versions of the same exact class. After declaring it, we cannot redefine it later on, so the name is vital to the identity of the Class.\n",
    "\n",
    "<pre>class ClassName:</pre>\n",
    "\n",
    "Class declarations use the keyword 'class' to declare that we are creating a class.\n",
    "Note that classes can only be declared at 0 indents. It cannot be repeatedly declared in a loop."
   ]
  },
  {
   "cell_type": "markdown",
   "metadata": {},
   "source": [
    "### Properties\n",
    "\n",
    "There are two types of properties to classes, instance and shared These are similar to how we use scope outside of classes, but these are applied within classes as well. \n",
    "\n",
    "Class properties are objects that are shared between all members of a class. So any member of these classes can reference or modify these objects.\n",
    "\n",
    "\n"
   ]
  },
  {
   "cell_type": "code",
   "execution_count": null,
   "metadata": {},
   "outputs": [],
   "source": []
  }
 ],
 "metadata": {
  "kernelspec": {
   "display_name": "Python 3",
   "language": "python",
   "name": "python3"
  },
  "language_info": {
   "codemirror_mode": {
    "name": "ipython",
    "version": 3
   },
   "file_extension": ".py",
   "mimetype": "text/x-python",
   "name": "python",
   "nbconvert_exporter": "python",
   "pygments_lexer": "ipython3",
   "version": "3.7.4"
  }
 },
 "nbformat": 4,
 "nbformat_minor": 2
}
