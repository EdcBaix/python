{
 "cells": [
  {
   "cell_type": "markdown",
   "metadata": {},
   "source": [
    "# Number Class example code\n",
    "\n",
    "In this example, we will create a class known as Numbers which will allow us to store a series of values in a sequence and manipulate them in various ways.\n",
    "\n",
    "Python doesn't exactly have a class specifically designed to handle arrays of numbers. So we're going to try and create one.\n",
    "\n",
    "## What is in here?\n",
    "We are going to create a class called Numbers that holds an arbitrary number of numbers in it. This class will have some specific functions declared to, and will have some overloaded 'magic' methods to give us some more convenient and \"python-like\" behaviors that we expect.\n",
    "\n",
    "## The Plan\n",
    "* We are going to first create the class. \n",
    "* Create the constructor that takes a series of numbers or takes it empty\n",
    "* Create a function to take in new numbers into the instance\n",
    "* Add a basic summation function\n",
    "* Add a mean calculation function\n",
    "* Try some overloaded functionality in len() and add() and getitem() and setitem()"
   ]
  },
  {
   "cell_type": "code",
   "execution_count": 101,
   "metadata": {},
   "outputs": [],
   "source": [
    "class Numbers:\n",
    "    \n",
    "    def __init__(self, *arguments):\n",
    "        self.numbers = []\n",
    "        if (not arguments):\n",
    "            return\n",
    "        for argument in arguments:\n",
    "            self.addNumbers(argument)\n",
    "        return\n",
    "            \n",
    "        self.addNumbers(args)\n",
    "\n",
    "    def addNumbers(self, *arguments):\n",
    "        if (not arguments):\n",
    "            return\n",
    "        for number in arguments:\n",
    "            self.numbers.append(number)\n",
    "    \n",
    "    def sum(self):\n",
    "        sum = 0\n",
    "        for number in self.numbers:\n",
    "            sum += number\n",
    "        return sum\n",
    "    \n",
    "    def mean(self):\n",
    "        return self.sum()/len(self)\n",
    "\n",
    "    def empty(self):\n",
    "        self.numbers = []\n",
    "        \n",
    "    def combine(self, *otherNumbers):\n",
    "        for otherNumber in otherNumbers:\n",
    "            self.numbers = self.numbers + otherNumber.numbers\n",
    "        return self.numbers\n",
    "    \n",
    "    def __len__(self):\n",
    "        return len(self.numbers)\n",
    "\n",
    "    def __add__(self, otherNumbers):\n",
    "        return self.numbers + otherNumbers.numbers\n",
    "    \n",
    "    def __getitem__(self, key):\n",
    "        if not key:\n",
    "            return self.numbers\n",
    "        position = 0\n",
    "        while (position < key):\n",
    "            position += 1\n",
    "        return self.numbers[position]\n",
    "        \n",
    "    def __setitem__(self, key, item):\n",
    "        if not key:\n",
    "            return self.numbers\n",
    "        position = 0\n",
    "        while (position < key):\n",
    "            position += 1\n",
    "        try:\n",
    "            self.numbers[position] = item\n",
    "        except IndexError as e:\n",
    "            print(e)"
   ]
  },
  {
   "cell_type": "code",
   "execution_count": 106,
   "metadata": {},
   "outputs": [
    {
     "data": {
      "text/plain": [
       "[1, 2, 3, 1, 2, 3, 1, 2, 3, 1, 2, 3]"
      ]
     },
     "execution_count": 106,
     "metadata": {},
     "output_type": "execute_result"
    }
   ],
   "source": [
    "\n",
    "numtoAdd = Numbers(1,2,3)\n",
    "num = Numbers(1,2,3)\n",
    "num.combine(num,numtoAdd,numtoAdd)"
   ]
  },
  {
   "cell_type": "code",
   "execution_count": null,
   "metadata": {},
   "outputs": [],
   "source": [
    "m"
   ]
  },
  {
   "cell_type": "code",
   "execution_count": null,
   "metadata": {},
   "outputs": [],
   "source": []
  }
 ],
 "metadata": {
  "kernelspec": {
   "display_name": "Python 3",
   "language": "python",
   "name": "python3"
  },
  "language_info": {
   "codemirror_mode": {
    "name": "ipython",
    "version": 3
   },
   "file_extension": ".py",
   "mimetype": "text/x-python",
   "name": "python",
   "nbconvert_exporter": "python",
   "pygments_lexer": "ipython3",
   "version": "3.7.4"
  }
 },
 "nbformat": 4,
 "nbformat_minor": 2
}
