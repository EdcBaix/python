{
 "cells": [
  {
   "cell_type": "code",
   "execution_count": null,
   "metadata": {},
   "outputs": [],
   "source": [
    "import os\n",
    "\n",
    "path = \"./Pages\"\n",
    "\n",
    "\n",
    "for i in range(1000):\n",
    "    raise\n",
    "    page = i + 1\n",
    "    # ./Pages/page.txt\n",
    "    f = open(\"./Pages/\" + str(page) + \".txt\", \"w+\")\n",
    "    f.write(\"This is page %s.\" % (page)  )\n",
    "    f.write(\"\\r\\rThis is where your amazing writing will go.\\r\\r\"  )\n",
    "    f.write(\"This is the end of page %s.\" % (page)  )\n",
    "    f.close()"
   ]
  },
  {
   "cell_type": "code",
   "execution_count": null,
   "metadata": {},
   "outputs": [],
   "source": [
    "import os\n",
    "\n",
    "path = \"./Pages/\"\n",
    "textfiles = os.listdir(path)\n",
    "#print(textfiles)\n",
    "\n",
    "directory = path+\"000\" # ./Pages/000\n",
    "if not os.path.exists(directory):\n",
    "    os.makedirs(directory)\n",
    "directory = path+\"100\"\n",
    "if not os.path.exists(directory):\n",
    "    os.makedirs(directory)\n",
    "directory = path+\"200\"\n",
    "if not os.path.exists(directory):\n",
    "    os.makedirs(directory)\n",
    "directory = path+\"300\"\n",
    "if not os.path.exists(directory):\n",
    "    os.makedirs(directory)\n",
    "directory = path+\"400\"\n",
    "if not os.path.exists(directory):\n",
    "    os.makedirs(directory)\n",
    "directory = path+\"500\"\n",
    "if not os.path.exists(directory):\n",
    "    os.makedirs(directory)\n",
    "directory = path+\"600\"\n",
    "if not os.path.exists(directory):\n",
    "    os.makedirs(directory)\n",
    "directory = path+\"700\"\n",
    "if not os.path.exists(directory):\n",
    "    os.makedirs(directory)\n",
    "directory = path+\"800\"\n",
    "if not os.path.exists(directory):\n",
    "    os.makedirs(directory)\n",
    "directory = path+\"900\"\n",
    "if not os.path.exists(directory):\n",
    "    os.makedirs(directory)\n",
    "directory = path+\"1000\"\n",
    "if not os.path.exists(directory):\n",
    "    os.makedirs(directory)"
   ]
  },
  {
   "cell_type": "code",
   "execution_count": null,
   "metadata": {},
   "outputs": [],
   "source": [
    "import os\n",
    "\n",
    "def GetFilename(fullName):\n",
    "    #split separates our file name into something specific\n",
    "    return fullName.split('.',1)[0]\n",
    "\n",
    "path = \"./Pages/\"\n",
    "textfiles = os.listdir(path)\n",
    "\n",
    "for file in textfiles:\n",
    "    name = int(GetFilename(file))\n",
    "    if (name in range(1,100)):\n",
    "        os.rename(path+file, path+\"000/\" + file)\n",
    "        \n",
    "''' if (name in range(100,200)):\n",
    "        os.rename(path+file, path+\"100/\"+file)\n",
    "    if (name in range(200,300)):\n",
    "        os.rename(path+file,path+\"200/\"+file)\n",
    "    if (name in range(300,400)):\n",
    "        os.rename(path+file,path+\"300/\"+file)\n",
    "    if (name in range(400,500)):\n",
    "        os.rename(path+file,path+\"400/\"+file)\n",
    "    if (name in range(500,600)):\n",
    "        os.rename(path+file,path+\"500/\"+file)\n",
    "    if (name in range(600,700)):\n",
    "        os.rename(path+file,path+\"600/\"+file)\n",
    "    if (name in range(700,800)):\n",
    "        os.rename(path+file,path+\"700/\"+file)\n",
    "    if (name in range(800,900)):\n",
    "        os.rename(path+file,path+\"800/\"+file)\n",
    "    if (name in range(900,1000)):\n",
    "        os.rename(path+file,path+\"900/\"+file)'''"
   ]
  },
  {
   "cell_type": "code",
   "execution_count": 1,
   "metadata": {},
   "outputs": [
    {
     "name": "stdout",
     "output_type": "stream",
     "text": [
      "I have suffered existence for 89 second(s).\n"
     ]
    },
    {
     "ename": "KeyboardInterrupt",
     "evalue": "",
     "output_type": "error",
     "traceback": [
      "\u001b[1;31m---------------------------------------------------------------------------\u001b[0m",
      "\u001b[1;31mKeyboardInterrupt\u001b[0m                         Traceback (most recent call last)",
      "\u001b[1;32m<ipython-input-1-e55070f67bab>\u001b[0m in \u001b[0;36m<module>\u001b[1;34m\u001b[0m\n\u001b[0;32m      7\u001b[0m \u001b[0msecondsPassed\u001b[0m \u001b[1;33m=\u001b[0m \u001b[1;36m0\u001b[0m\u001b[1;33m\u001b[0m\u001b[1;33m\u001b[0m\u001b[0m\n\u001b[0;32m      8\u001b[0m \u001b[1;32mwhile\u001b[0m\u001b[1;33m(\u001b[0m\u001b[1;32mTrue\u001b[0m\u001b[1;33m)\u001b[0m\u001b[1;33m:\u001b[0m\u001b[1;33m\u001b[0m\u001b[1;33m\u001b[0m\u001b[0m\n\u001b[1;32m----> 9\u001b[1;33m     \u001b[1;32mif\u001b[0m \u001b[0mpreviousTime\u001b[0m \u001b[1;33m!=\u001b[0m \u001b[0mtime\u001b[0m\u001b[1;33m.\u001b[0m\u001b[0mlocaltime\u001b[0m\u001b[1;33m(\u001b[0m\u001b[0mtime\u001b[0m\u001b[1;33m.\u001b[0m\u001b[0mtime\u001b[0m\u001b[1;33m(\u001b[0m\u001b[1;33m)\u001b[0m\u001b[1;33m)\u001b[0m\u001b[1;33m.\u001b[0m\u001b[0mtm_sec\u001b[0m\u001b[1;33m:\u001b[0m\u001b[1;33m\u001b[0m\u001b[1;33m\u001b[0m\u001b[0m\n\u001b[0m\u001b[0;32m     10\u001b[0m         \u001b[0mclear_output\u001b[0m\u001b[1;33m(\u001b[0m\u001b[1;33m)\u001b[0m\u001b[1;33m\u001b[0m\u001b[1;33m\u001b[0m\u001b[0m\n\u001b[0;32m     11\u001b[0m         \u001b[0msecondsPassed\u001b[0m \u001b[1;33m=\u001b[0m \u001b[0msecondsPassed\u001b[0m \u001b[1;33m+\u001b[0m \u001b[1;36m1\u001b[0m\u001b[1;33m\u001b[0m\u001b[1;33m\u001b[0m\u001b[0m\n",
      "\u001b[1;31mKeyboardInterrupt\u001b[0m: "
     ]
    }
   ],
   "source": [
    "import time\n",
    "from IPython.display import clear_output\n",
    "\n",
    "#print( time.localtime(time.time()).tm_sec )\n",
    "\n",
    "previousTime = time.localtime(time.time()).tm_sec\n",
    "secondsPassed = 0 \n",
    "while(True):\n",
    "    if previousTime != time.localtime(time.time()).tm_sec:\n",
    "        clear_output()\n",
    "        print(\"I have suffered existence for %s second(s).\" % secondsPassed)\n",
    "        previousTime = time.localtime(time.time()).tm_sec"
   ]
  },
  {
   "cell_type": "code",
   "execution_count": null,
   "metadata": {},
   "outputs": [],
   "source": []
  }
 ],
 "metadata": {
  "kernelspec": {
   "display_name": "Python 3",
   "language": "python",
   "name": "python3"
  },
  "language_info": {
   "codemirror_mode": {
    "name": "ipython",
    "version": 3
   },
   "file_extension": ".py",
   "mimetype": "text/x-python",
   "name": "python",
   "nbconvert_exporter": "python",
   "pygments_lexer": "ipython3",
   "version": "3.7.4"
  }
 },
 "nbformat": 4,
 "nbformat_minor": 2
}
