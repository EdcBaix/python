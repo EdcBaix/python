{
 "cells": [
  {
   "cell_type": "markdown",
   "metadata": {},
   "source": [
    "# Simple Data Processing using Pandas"
   ]
  },
  {
   "cell_type": "markdown",
   "metadata": {},
   "source": [
    "## Data source\n",
    "\n",
    "This notebook uses a sample of the the [The Stanford Open Policing Project](https://openpolicing.stanford.edu/)'s Oakland dataset. A description of the data is [here](https://openpolicing.stanford.edu/data).\n",
    "\n",
    "<br>\n",
    "\n",
    "## Data format\n",
    "\n",
    "The data is a [CSV file](https://en.wikipedia.org/wiki/Comma-separated_values). CSV stands for *comma-separated values*. It is a very common format for large data files. Here's a view of our data, simplified for right now:\n",
    "\n",
    "<div style=\"width: 60%; margin: auto;\">\n",
    "\n",
    "```\n",
    "date,time,location\n",
    "2013-04-01,20:52:00,700 Blk Of Center St\n",
    "2013-04-01,15:55:00,73R D AV&INTERNATIONAL BLVD\n",
    "NA,01:33:00,E. 28th St. & Park BLVD\n",
    "```\n",
    "\n",
    "</div>\n",
    "\n",
    "CSVs hold *tabular* data (i.e. rows and columns of information). Each line of the file indicates a rows. Each comma indicates a new column.\n",
    "\n",
    "|date | time | location |\n",
    "|:----|:-----|:---------|\n",
    "|2013-04-01|20:52:00|700 Blk Of Center St|\n",
    "|2013-04-01|15:55:00|73R D AV&INTERNATIONAL BLVD|\n",
    "|NA|01:33:00|E. 28th St. & Park BLVD|\n",
    "\n",
    "<br>\n",
    "\n",
    "## Python tools\n",
    "\n",
    "Python is a great tool for processing CSV data at a large scale or with a lot of complexity. There are several ways to go about this task: with [Python's built-in `csv` module](https://docs.python.org/3/library/csv.html), with the [`Numpy` library](https://numpy.org/), or with the [`Pandas` library](https://pandas.pydata.org/). Read more about the differences [here].\n",
    "\n",
    "All are worth knowing. This notebook uses `Pandas`.\n",
    "\n",
    "[here]: https://janakiev.com/blog/csv-in-python/\n",
    "\n",
    "<hr>"
   ]
  },
  {
   "cell_type": "markdown",
   "metadata": {},
   "source": [
    "## 1. Creating a `dataframe` object"
   ]
  },
  {
   "cell_type": "code",
   "execution_count": null,
   "metadata": {},
   "outputs": [],
   "source": [
    "# Import Pandas\n",
    "# You'll first have to install it if you haven't already.\n",
    "# (https://pandas.pydata.org/pandas-docs/stable/getting_started/install.html)\n",
    "import pandas as pd"
   ]
  },
  {
   "cell_type": "code",
   "execution_count": null,
   "metadata": {},
   "outputs": [],
   "source": [
    "# The name of the csv file (in the same folder as this notebook)\n",
    "path = 'ca_oakland_2020_04_01_SHORT.csv'\n",
    "\n",
    "# Here, we create a 'dataframe' object using our csv data.\n",
    "# Dataframe objects are specific to the Pandas library.\n",
    "# 'df' is common shorthand for 'dataframe'.\n",
    "df = pd.read_csv(path)\n",
    "\n",
    "# One nice thing about the dataframe object is it lets us\n",
    "# view our csv data as an easy-to-read table.\n",
    "df"
   ]
  },
  {
   "cell_type": "markdown",
   "metadata": {},
   "source": [
    "## Navigating the `dataframe` object"
   ]
  },
  {
   "cell_type": "code",
   "execution_count": null,
   "metadata": {},
   "outputs": [],
   "source": [
    "# Show only the first ten lines of the dataframe object.\n",
    "df.head(10)"
   ]
  },
  {
   "cell_type": "code",
   "execution_count": null,
   "metadata": {},
   "outputs": [],
   "source": [
    "# Grab only specific columns.\n",
    "df[['lat','lng']]"
   ]
  },
  {
   "cell_type": "code",
   "execution_count": null,
   "metadata": {},
   "outputs": [],
   "source": [
    "# Grab all of the data where the 'reason_for_stop' column is 'Probable Cause'.\n",
    "df[df['reason_for_stop'] == 'Probable Cause']"
   ]
  },
  {
   "cell_type": "markdown",
   "metadata": {},
   "source": [
    "## 3. Creating simple visualizations"
   ]
  },
  {
   "cell_type": "code",
   "execution_count": null,
   "metadata": {},
   "outputs": [],
   "source": [
    "# Dataframe objects come with plotting methods.\n",
    "# Here, we create a scatter plot using the lng and lat columns\n",
    "# of data.\n",
    "df.plot.scatter(x='lng',\n",
    "                y='lat',\n",
    "                c='DarkBlue')"
   ]
  },
  {
   "cell_type": "code",
   "execution_count": null,
   "metadata": {},
   "outputs": [],
   "source": [
    "# Get only one column of data.\n",
    "df_reason = df[['reason_for_stop']]\n",
    "\n",
    "# Create a pie chart for that column of data.\n",
    "df_reason.apply(pd.value_counts).plot.pie(y='reason_for_stop',\n",
    "                                          figsize=(8, 8))"
   ]
  },
  {
   "cell_type": "code",
   "execution_count": null,
   "metadata": {},
   "outputs": [],
   "source": []
  }
 ],
 "metadata": {
  "kernelspec": {
   "display_name": "Python 3",
   "language": "python",
   "name": "python3"
  },
  "language_info": {
   "codemirror_mode": {
    "name": "ipython",
    "version": 3
   },
   "file_extension": ".py",
   "mimetype": "text/x-python",
   "name": "python",
   "nbconvert_exporter": "python",
   "pygments_lexer": "ipython3",
   "version": "3.7.6"
  }
 },
 "nbformat": 4,
 "nbformat_minor": 2
}
