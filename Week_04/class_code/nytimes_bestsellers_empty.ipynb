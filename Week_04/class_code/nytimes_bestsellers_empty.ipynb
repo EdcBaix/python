{
 "cells": [
  {
   "cell_type": "markdown",
   "metadata": {},
   "source": [
    "## Live Code: Python Sets\n",
    "\n",
    "In this example we'll play around with call results from the [New York Times Books API](https://developer.nytimes.com/docs/books-product/1/overview) to demonstrate the use of __set operations__ (stay tuned for week 6, to learn more about APIs). The Books API provides information about the The New York Times bestsellers lists. We'll look at following categories, which are updated weekly: \n",
    "* Hardcover Fiction\n",
    "* Hardcover Nonfiction\n",
    "* Paperback Trade Fiction\n",
    "* Paperback Nonfiction\n",
    "\n",
    "In the first part of this code we'll create sets of titles for each category and week, in the second section we'll make use of set operations to get insights about the bestsellers. Which books have stayed in the top 15 compared to the previous week? Which titles are newcomers?\n",
    "\n",
    "### Generating Sets"
   ]
  },
  {
   "cell_type": "code",
   "execution_count": null,
   "metadata": {},
   "outputs": [],
   "source": [
    "# import requests and json libraries - needed to make an API call\n",
    "import requests\n",
    "import json\n",
    "\n",
    "# this function will make requests to the nytimes Books API\n",
    "def generateSets(date):\n",
    "    \n",
    "    authorized_key = \"QftZeSssSfBqTSFet3RBaTE9inc3iWAw\" # if you want to play around with the API, please make your own key at https://developer.nytimes.com/\n",
    "    # to make a request with this API, we need to choose the specific bestseller lists we want to access \n",
    "    categories = ['hardcover-fiction', 'hardcover-nonfiction', 'paperback-nonfiction', 'trade-fiction-paperback']\n",
    "    \n",
    "    # our goal is to create a set for each of these categories, containing the respective books' titles and authors\n",
    "    \n",
    "    # step 1: \n",
    "    # set two global variables\n",
    "    global bestseller_titles # this one will be populated with information from the 'title' key \n",
    "    global bestseller_authors # this one will be populated with information from the 'author' key \n",
    "    # declare them as nested list (one list for each category)\n",
    "    bestseller_titles = [[],[],[],[]] \n",
    "    bestseller_authors = [[],[],[],[]] \n",
    "    \n",
    "    # step 2: \n",
    "    # populate those lists in a while loop:\n",
    "    n = 0 # create variable 'n' to count\n",
    "    while n < len(bestseller_titles): # while 'n' is smaller than number of empty lists in 'bestseller_titles'\n",
    "        # call the API-url\n",
    "        # use string formatters to parse in the date ('current'), category (with index 'n'), and the API-key\n",
    "        api_url = \"https://api.nytimes.com/svc/books/v3/lists/{}/{}.json?api-key={}\".format(date, categories[n], authorized_key)\n",
    "\n",
    "        # call the API with requests\n",
    "        response = requests.get(api_url)\n",
    "        # create a variable called 'data' to hold the json formatted result\n",
    "        data = response.json()\n",
    "        \n",
    "        \"\"\" This is an excerpt of the data structure the API returns:      \n",
    "{(...)\n",
    " (...)\n",
    " 'results': {(...)\n",
    "     (...)\n",
    "     'books': [{(...)\n",
    "         (...)\n",
    "         'title': 'LITTLE FIRES EVERYWHERE',\n",
    "         'contributor': 'by Celeste Ng',\n",
    "        \n",
    "        \"\"\"\n",
    "\n",
    "        # we want to access the information stored in the key, 'results'\n",
    "        # 'results' maps to a dictionariy that contains the 'books' list\n",
    "        # define the 'path'\n",
    "        books = data['results']['books']\n",
    "        \n",
    "        # then iterate through 'titles' and 'contributor' in 'books':\n",
    "        j = 0 # create variable 'j' to count\n",
    "        # while 'j' is smaller than the number of books\n",
    "        while j < len(books):\n",
    "            # add the title to the 'nth' list in 'bestseller_titles'\n",
    "            bestseller_titles[n].append(books[j]['title'])\n",
    "            # add the contributor to the 'nth' list in 'bestseller_authors'\n",
    "            bestseller_authors[n].append(books[j]['contributor'])\n",
    "            j += 1 # count +1\n",
    "\n",
    "        n += 1 # count +1\n",
    "    \n",
    "    # step 3:\n",
    "    # print the populated lists as a sanity check\n",
    "    print(bestseller_titles)\n",
    "    print('\\n', bestseller_authors)"
   ]
  },
  {
   "cell_type": "code",
   "execution_count": null,
   "metadata": {},
   "outputs": [],
   "source": [
    "# call the generateSets() function \n",
    "# with 'date' = 'current' to recieve this week's bestseller list\n",
    "generateSets('current')"
   ]
  },
  {
   "cell_type": "code",
   "execution_count": null,
   "metadata": {},
   "outputs": [],
   "source": [
    "# create a set from each nested list\n",
    "# concatenate the 'title' and 'author' list, using list comprehension and the zip() function\n",
    "# -> set([template for item1, item2 in zip(list1, list2)])\n",
    "hc_fiction_jun21 = set([i + ' ' + j for i, j in zip(bestseller_titles[0], bestseller_authors[0])]) \n",
    "hc_nonfiction_jun21 = set([i + ' ' + j for i, j in zip(bestseller_titles[1], bestseller_authors[1])])\n",
    "pb_nonfiction_jun21 = set([i + ' ' + j for i, j in zip(bestseller_titles[2], bestseller_authors[2])])\n",
    "pb_fiction_jun21 = set([i + ' ' + j for i, j in zip(bestseller_titles[3], bestseller_authors[3])])\n",
    "\n",
    "print('Hardcover Fiction, June 21:\\n', hc_fiction_jun21)\n",
    "print('\\nHardcover Nonfiction, June 21:\\n', hc_nonfiction_jun21)\n",
    "print('\\nPaperback Nonfiction, June 21:\\n', pb_nonfiction_jun21)\n",
    "print('\\nPaperback Fiction, June 21:\\n', pb_fiction_jun21)"
   ]
  },
  {
   "cell_type": "code",
   "execution_count": null,
   "metadata": {},
   "outputs": [],
   "source": [
    "# call the generateSets() function again\n",
    "# with 'date' = '2020-06-14' to recieve last week's bestseller list\n",
    "generateSets('2020-06-14')"
   ]
  },
  {
   "cell_type": "code",
   "execution_count": null,
   "metadata": {},
   "outputs": [],
   "source": [
    "# create a set from each nested list\n",
    "# concatenate the 'title' and 'author' list, using list comprehension and the zip() function\n",
    "# -> set([template for item1, item2 in zip(list1, list2)])\n",
    "hc_fiction_jun14 = set([i + ' ' + j for i, j in zip(bestseller_titles[0], bestseller_authors[0])]) \n",
    "hc_nonfiction_jun14 = set([i + ' ' + j for i, j in zip(bestseller_titles[1], bestseller_authors[1])])\n",
    "pb_nonfiction_jun14 = set([i + ' ' + j for i, j in zip(bestseller_titles[2], bestseller_authors[2])])\n",
    "pb_fiction_jun14 = set([i + ' ' + j for i, j in zip(bestseller_titles[3], bestseller_authors[3])])\n",
    "\n",
    "print('Hardcover Fiction, June 14:\\n', hc_fiction_jun14)\n",
    "print('\\nHardcover Nonfiction, June 14:\\n', hc_nonfiction_jun14)\n",
    "print('\\nPaperback Nonfiction, June 14:\\n', pb_nonfiction_jun14)\n",
    "print('\\nPaperback Fiction, June 14:\\n', pb_fiction_jun14)"
   ]
  },
  {
   "cell_type": "markdown",
   "metadata": {},
   "source": [
    "## Set Operations\n",
    "\n",
    "Now that we have declared multiple sets of books, let's make use of set operations to get insights about the bestsellers."
   ]
  },
  {
   "cell_type": "code",
   "execution_count": null,
   "metadata": {},
   "outputs": [],
   "source": [
    "# create an intersection function to test if a book shows up in two categories"
   ]
  },
  {
   "cell_type": "code",
   "execution_count": null,
   "metadata": {},
   "outputs": [],
   "source": [
    "# create a difference function"
   ]
  },
  {
   "cell_type": "code",
   "execution_count": null,
   "metadata": {},
   "outputs": [],
   "source": [
    "# create a union function to show two categories combined"
   ]
  },
  {
   "cell_type": "code",
   "execution_count": null,
   "metadata": {},
   "outputs": [],
   "source": [
    "# Show ALL nonfiction bestsellers, current and last week combined"
   ]
  }
 ],
 "metadata": {
  "kernelspec": {
   "display_name": "Python 3",
   "language": "python",
   "name": "python3"
  },
  "language_info": {
   "codemirror_mode": {
    "name": "ipython",
    "version": 3
   },
   "file_extension": ".py",
   "mimetype": "text/x-python",
   "name": "python",
   "nbconvert_exporter": "python",
   "pygments_lexer": "ipython3",
   "version": "3.7.4"
  }
 },
 "nbformat": 4,
 "nbformat_minor": 2
}
