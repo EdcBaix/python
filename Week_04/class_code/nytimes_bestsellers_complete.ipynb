{
 "cells": [
  {
   "cell_type": "markdown",
   "metadata": {},
   "source": [
    "## Live Code: Python Sets\n",
    "\n",
    "In this example we'll play around with call results from the [New York Times Books API](https://developer.nytimes.com/docs/books-product/1/overview) to demonstrate the use of __set operations__ (stay tuned for week 6, to learn more about APIs). The Books API provides information about the The New York Times bestsellers lists. We'll look at following categories, which are updated weekly: \n",
    "* Hardcover Fiction\n",
    "* Hardcover Nonfiction\n",
    "* Paperback Trade Fiction\n",
    "* Paperback Nonfiction\n",
    "\n",
    "In the first part of this code we'll create sets of titles for each category and week, in the second section we'll make use of set operations to get insights about the bestsellers. Which books have stayed in the top 15 compared to the previous week? Which titles are newcomers?\n",
    "\n",
    "### Generating Sets"
   ]
  },
  {
   "cell_type": "code",
   "execution_count": 1,
   "metadata": {},
   "outputs": [],
   "source": [
    "# import requests and json libraries - needed to make an API call\n",
    "import requests\n",
    "import json\n",
    "\n",
    "# this function will make requests to the nytimes Books API\n",
    "def generateSets(date):\n",
    "    \n",
    "    authorized_key = \"QftZeSssSfBqTSFet3RBaTE9inc3iWAw\" # if you want to play around with the API, please make your own key at https://developer.nytimes.com/\n",
    "    # to make a request with this API, we need to choose the specific bestseller lists we want to access \n",
    "    categories = ['hardcover-fiction', 'hardcover-nonfiction', 'paperback-nonfiction', 'trade-fiction-paperback']\n",
    "    \n",
    "    # our goal is to create a set for each of these categories, containing the respective books' titles and authors\n",
    "    \n",
    "    # step 1: \n",
    "    # set two global variables\n",
    "    global bestseller_titles # this one will be populated with information from the 'title' key \n",
    "    global bestseller_authors # this one will be populated with information from the 'author' key \n",
    "    # declare them as nested list (one list for each category)\n",
    "    bestseller_titles = [[],[],[],[]] \n",
    "    bestseller_authors = [[],[],[],[]] \n",
    "    \n",
    "    # step 2: \n",
    "    # populate those lists in a while loop:\n",
    "    n = 0 # create variable 'n' to count\n",
    "    while n < len(bestseller_titles): # while 'n' is smaller than number of empty lists in 'bestseller_titles'\n",
    "        # call the API-url\n",
    "        # use string formatters to parse in the date ('current'), category (with index 'n'), and the API-key\n",
    "        api_url = \"https://api.nytimes.com/svc/books/v3/lists/{}/{}.json?api-key={}\".format(date, categories[n], authorized_key)\n",
    "\n",
    "        # call the API with requests\n",
    "        response = requests.get(api_url)\n",
    "        # create a variable called 'data' to hold the json formatted result\n",
    "        data = response.json()\n",
    "        \n",
    "        \"\"\" This is an excerpt of the data structure the API returns:      \n",
    "{(...)\n",
    " (...)\n",
    " 'results': {(...)\n",
    "     (...)\n",
    "     'books': [{(...)\n",
    "         (...)\n",
    "         'title': 'LITTLE FIRES EVERYWHERE',\n",
    "         'contributor': 'by Celeste Ng',\n",
    "        \n",
    "        \"\"\"\n",
    "\n",
    "        # we want to access the information stored in the key, 'results'\n",
    "        # 'results' maps to a dictionariy that contains the 'books' list\n",
    "        # define the 'path'\n",
    "        books = data['results']['books']\n",
    "        \n",
    "        # then iterate through 'titles' and 'contributor' in 'books':\n",
    "        j = 0 # create variable 'j' to count\n",
    "        # while 'j' is smaller than the number of books\n",
    "        while j < len(books):\n",
    "            # add the title to the 'nth' list in 'bestseller_titles'\n",
    "            bestseller_titles[n].append(books[j]['title'])\n",
    "            # add the contributor to the 'nth' list in 'bestseller_authors'\n",
    "            bestseller_authors[n].append(books[j]['contributor'])\n",
    "            j += 1 # count +1\n",
    "\n",
    "        n += 1 # count +1\n",
    "    \n",
    "    # step 3:\n",
    "    # print the populated lists as a sanity check\n",
    "    print(bestseller_titles)\n",
    "    print('\\n', bestseller_authors)"
   ]
  },
  {
   "cell_type": "code",
   "execution_count": 2,
   "metadata": {},
   "outputs": [
    {
     "name": "stdout",
     "output_type": "stream",
     "text": [
      "[['THE VANISHING HALF', 'WHERE THE CRAWDADS SING', 'THE GUEST LIST', 'CAMINO WINDS', 'THE LIES THAT BIND', 'FAIR WARNING', 'HIDEAWAY', 'IF IT BLEEDS', 'BIG SUMMER', 'WALK THE WIRE', 'AMERICAN DIRT', 'A BURNING', 'THE SILENT PATIENT', 'ALL ADULTS HERE', 'SUCH A FUN AGE'], ['HOW TO BE AN ANTIRACIST', 'UNTAMED', 'BETWEEN THE WORLD AND ME', 'BECOMING', 'THE SPLENDID AND THE VILE', 'ME AND WHITE SUPREMACY', 'UNITED STATES OF SOCIALISM', 'EDUCATED', 'BREATH', 'MY VANISHING COUNTRY', 'HUMANKIND', 'THE MAMBA MENTALITY', 'PLAGUE OF CORRUPTION', \"THE DEVIANT'S WAR\", 'TALKING TO STRANGERS'], ['SO YOU WANT TO TALK ABOUT RACE', 'WHITE FRAGILITY', 'THE COLOR OF LAW', 'THE NEW JIM CROW', 'JUST MERCY', 'STAMPED FROM THE BEGINNING', 'WHY ARE ALL THE BLACK KIDS SITTING TOGETHER IN THE CAFETERIA?', 'BORN A CRIME', 'RAISING WHITE KIDS', 'WHITE RAGE', 'THE BODY KEEPS THE SCORE', 'WAKING UP WHITE', 'ELOQUENT RAGE', 'THE GREAT INFLUENZA', \"MY GRANDMOTHER'S HANDS\"], ['LITTLE FIRES EVERYWHERE', 'NORMAL PEOPLE', 'THEN SHE WAS GONE', 'THE WOMAN IN THE WINDOW', 'CIRCE', 'THE BLUEST EYE', 'HUSH', 'BEACH READ', 'THE TATTOOIST OF AUSCHWITZ', 'BEFORE WE WERE YOURS', 'BELOVED', 'THE FAMILY UPSTAIRS', 'THE NIGHTINGALE', 'AMERICANAH', 'THIS TENDER LAND']]\n",
      "\n",
      " [['by Brit Bennett', 'by Delia Owens', 'by Lucy Foley', 'by John Grisham', 'by Emily Giffin', 'by Michael Connelly', 'by Nora Roberts', 'by Stephen King', 'by Jennifer Weiner', 'by David Baldacci', 'by Jeanine Cummins', 'by Megha Majumdar', 'by Alex Michaelides', 'by Emma Straub', 'by Kiley Reid'], ['by Ibram X. Kendi', 'by Glennon Doyle', 'by Ta-Nehisi Coates', 'by Michelle Obama', 'by Erik Larson', 'by Layla F. Saad', \"by Dinesh D'Souza\", 'by Tara Westover', 'by James Nestor', 'by Bakari Sellers', 'by Rutger Bregman', 'by Kobe Bryant', 'by Judy Mikovits and Kent Heckenlively', 'by Eric Cervini', 'by Malcolm Gladwell'], ['by Ijeoma Oluo', 'by Robin DiAngelo', 'by Richard Rothstein', 'by Michelle Alexander', 'by Bryan Stevenson', 'by Ibram X. Kendi', 'by Beverly Tatum', 'by Trevor Noah', 'by Jennifer Harvey', 'by Carol Anderson', 'by Bessel van der Kolk', 'by Debby Irving', 'by Brittney Cooper', 'by John M. Barry', 'by Resmaa Menakem'], ['by Celeste Ng', 'by Sally Rooney', 'by Lisa Jewell', 'by A.J. Finn', 'by Madeline Miller', 'by Toni Morrison', 'by James Patterson and Candice Fox', 'by Emily Henry', 'by Heather Morris', 'by Lisa Wingate', 'by Toni Morrison', 'by Lisa Jewell', 'by Kristin Hannah', 'by Chimamanda Ngozi Adichie', 'by William Kent Krueger']]\n"
     ]
    }
   ],
   "source": [
    "# call the generatSets() function \n",
    "# with 'date' = 'current' to recieve this week's bestseller list\n",
    "generateSets('current')"
   ]
  },
  {
   "cell_type": "code",
   "execution_count": 3,
   "metadata": {},
   "outputs": [
    {
     "name": "stdout",
     "output_type": "stream",
     "text": [
      "Hardcover Fiction, June 21:\n",
      " {'HIDEAWAY by Nora Roberts', 'THE GUEST LIST by Lucy Foley', 'FAIR WARNING by Michael Connelly', 'WHERE THE CRAWDADS SING by Delia Owens', 'THE LIES THAT BIND by Emily Giffin', 'AMERICAN DIRT by Jeanine Cummins', 'CAMINO WINDS by John Grisham', 'WALK THE WIRE by David Baldacci', 'SUCH A FUN AGE by Kiley Reid', 'A BURNING by Megha Majumdar', 'BIG SUMMER by Jennifer Weiner', 'THE VANISHING HALF by Brit Bennett', 'ALL ADULTS HERE by Emma Straub', 'THE SILENT PATIENT by Alex Michaelides', 'IF IT BLEEDS by Stephen King'}\n",
      "\n",
      "Hardcover Nonfiction, June 21:\n",
      " {'THE SPLENDID AND THE VILE by Erik Larson', 'ME AND WHITE SUPREMACY by Layla F. Saad', 'HOW TO BE AN ANTIRACIST by Ibram X. Kendi', \"UNITED STATES OF SOCIALISM by Dinesh D'Souza\", 'EDUCATED by Tara Westover', 'PLAGUE OF CORRUPTION by Judy Mikovits and Kent Heckenlively', 'BECOMING by Michelle Obama', 'BETWEEN THE WORLD AND ME by Ta-Nehisi Coates', 'BREATH by James Nestor', \"THE DEVIANT'S WAR by Eric Cervini\", 'MY VANISHING COUNTRY by Bakari Sellers', 'UNTAMED by Glennon Doyle', 'THE MAMBA MENTALITY by Kobe Bryant', 'TALKING TO STRANGERS by Malcolm Gladwell', 'HUMANKIND by Rutger Bregman'}\n",
      "\n",
      "Paperback Nonfiction, June 21:\n",
      " {'THE COLOR OF LAW by Richard Rothstein', 'WHITE FRAGILITY by Robin DiAngelo', 'WHY ARE ALL THE BLACK KIDS SITTING TOGETHER IN THE CAFETERIA? by Beverly Tatum', 'THE NEW JIM CROW by Michelle Alexander', 'WAKING UP WHITE by Debby Irving', 'JUST MERCY by Bryan Stevenson', 'BORN A CRIME by Trevor Noah', 'THE GREAT INFLUENZA by John M. Barry', 'SO YOU WANT TO TALK ABOUT RACE by Ijeoma Oluo', 'ELOQUENT RAGE by Brittney Cooper', 'RAISING WHITE KIDS by Jennifer Harvey', 'STAMPED FROM THE BEGINNING by Ibram X. Kendi', 'WHITE RAGE by Carol Anderson', 'THE BODY KEEPS THE SCORE by Bessel van der Kolk', \"MY GRANDMOTHER'S HANDS by Resmaa Menakem\"}\n",
      "\n",
      "Paperback Fiction, June 21:\n",
      " {'AMERICANAH by Chimamanda Ngozi Adichie', 'LITTLE FIRES EVERYWHERE by Celeste Ng', 'NORMAL PEOPLE by Sally Rooney', 'HUSH by James Patterson and Candice Fox', 'THE TATTOOIST OF AUSCHWITZ by Heather Morris', 'BELOVED by Toni Morrison', 'THE FAMILY UPSTAIRS by Lisa Jewell', 'THEN SHE WAS GONE by Lisa Jewell', 'THE NIGHTINGALE by Kristin Hannah', 'CIRCE by Madeline Miller', 'BEFORE WE WERE YOURS by Lisa Wingate', 'THIS TENDER LAND by William Kent Krueger', 'THE WOMAN IN THE WINDOW by A.J. Finn', 'BEACH READ by Emily Henry', 'THE BLUEST EYE by Toni Morrison'}\n"
     ]
    }
   ],
   "source": [
    "# create a set from each nested list\n",
    "# concatenate the 'title' and 'author' list, using list comprehension and the zip() function\n",
    "# -> set([template for item1, item2 in zip(list1, list2)])\n",
    "hc_fiction_jun21 = set([i + ' ' + j for i, j in zip(bestseller_titles[0], bestseller_authors[0])]) \n",
    "hc_nonfiction_jun21 = set([i + ' ' + j for i, j in zip(bestseller_titles[1], bestseller_authors[1])])\n",
    "pb_nonfiction_jun21 = set([i + ' ' + j for i, j in zip(bestseller_titles[2], bestseller_authors[2])])\n",
    "pb_fiction_jun21 = set([i + ' ' + j for i, j in zip(bestseller_titles[3], bestseller_authors[3])])\n",
    "\n",
    "print('Hardcover Fiction, June 21:\\n', hc_fiction_jun21)\n",
    "print('\\nHardcover Nonfiction, June 21:\\n', hc_nonfiction_jun21)\n",
    "print('\\nPaperback Nonfiction, June 21:\\n', pb_nonfiction_jun21)\n",
    "print('\\nPaperback Fiction, June 21:\\n', pb_fiction_jun21)"
   ]
  },
  {
   "cell_type": "code",
   "execution_count": 4,
   "metadata": {},
   "outputs": [
    {
     "name": "stdout",
     "output_type": "stream",
     "text": [
      "[['WHERE THE CRAWDADS SING', 'HIDEAWAY', 'FAIR WARNING', 'CAMINO WINDS', 'IF IT BLEEDS', 'BIG SUMMER', 'AMERICAN DIRT', 'WALK THE WIRE', 'ALL ADULTS HERE', 'THE 20TH VICTIM', 'THE SILENT PATIENT', 'THE GIVER OF STARS', 'THE BOOK OF LONGINGS', 'WRATH OF POSEIDON', 'THE LAST TRIAL'], ['UNTAMED', 'PLAGUE OF CORRUPTION', 'BECOMING', 'THE SPLENDID AND THE VILE', 'HOW TO BE AN ANTIRACIST', 'BREATH', 'EDUCATED', 'HOLLYWOOD PARK', 'AMERICAN CRUSADE', 'ME AND WHITE SUPREMACY', 'FORTITUDE', 'THE MAMBA MENTALITY', 'HIDDEN VALLEY ROAD', 'THE CHIFFON TRENCHES', 'MY VANISHING COUNTRY'], ['WHITE FRAGILITY', 'THE GREAT INFLUENZA', 'THE NEW JIM CROW', 'THE BODY KEEPS THE SCORE', 'SO YOU WANT TO TALK ABOUT RACE', 'JUST MERCY', 'A WOMAN OF NO IMPORTANCE', 'UNORTHODOX', 'BORN A CRIME', 'SAPIENS', 'BRAIDING SWEETGRASS', 'GRIT', 'OUTLIERS', 'THE COLOR OF LAW', 'THINKING, FAST AND SLOW'], ['LITTLE FIRES EVERYWHERE', 'NORMAL PEOPLE', 'THEN SHE WAS GONE', 'THE WOMAN IN THE WINDOW', 'THE TATTOOIST OF AUSCHWITZ', 'CIRCE', 'THIS TENDER LAND', 'BEFORE WE WERE YOURS', 'THE NIGHTINGALE', 'BEACH READ', 'CITY OF GIRLS', 'THE OVERSTORY', 'A GENTLEMAN IN MOSCOW', 'THE BOOK WOMAN OF TROUBLESOME CREEK', 'CALL ME BY YOUR NAME']]\n",
      "\n",
      " [['by Delia Owens', 'by Nora Roberts', 'by Michael Connelly', 'by John Grisham', 'by Stephen King', 'by Jennifer Weiner', 'by Jeanine Cummins', 'by David Baldacci', 'by Emma Straub', 'by James Patterson and Maxine Paetro', 'by Alex Michaelides', 'by Jojo Moyes', 'by Sue Monk Kidd', 'by Clive Cussler and Robin Burcell', 'by Scott Turow'], ['by Glennon Doyle', 'by Judy Mikovits and Kent Heckenlively', 'by Michelle Obama', 'by Erik Larson', 'by Ibram X. Kendi', 'by James Nestor', 'by Tara Westover', 'by Mikel Jollett', 'by Pete Hegseth', 'by Layla F. Saad', 'by Dan Crenshaw', 'by Kobe Bryant', 'by Robert Kolker', 'by André Leon Talley', 'by Bakari Sellers'], ['by Robin DiAngelo', 'by John M. Barry', 'by Michelle Alexander', 'by Bessel van der Kolk', 'by Ijeoma Oluo', 'by Bryan Stevenson', 'by Sonia Purnell', 'by Deborah Feldman', 'by Trevor Noah', 'by Yuval Noah Harari', 'by Robin Wall Kimmerer', 'by Angela Duckworth', 'by Malcolm Gladwell', 'by Richard Rothstein', 'by Daniel Kahneman'], ['by Celeste Ng', 'by Sally Rooney', 'by Lisa Jewell', 'by A.J. Finn', 'by Heather Morris', 'by Madeline Miller', 'by William Kent Krueger', 'by Lisa Wingate', 'by Kristin Hannah', 'by Emily Henry', 'by Elizabeth Gilbert', 'by Richard Powers', 'by Amor Towles', 'by Kim Michele Richardson', 'by André Aciman']]\n"
     ]
    }
   ],
   "source": [
    "# call the generatSets() function again\n",
    "# with 'date' = '2020-06-14' to recieve last week's bestseller list\n",
    "generateSets('2020-06-14')"
   ]
  },
  {
   "cell_type": "code",
   "execution_count": 5,
   "metadata": {},
   "outputs": [
    {
     "name": "stdout",
     "output_type": "stream",
     "text": [
      "Hardcover Fiction, June 14:\n",
      " {'HIDEAWAY by Nora Roberts', 'THE 20TH VICTIM by James Patterson and Maxine Paetro', 'FAIR WARNING by Michael Connelly', 'AMERICAN DIRT by Jeanine Cummins', 'WHERE THE CRAWDADS SING by Delia Owens', 'CAMINO WINDS by John Grisham', 'WALK THE WIRE by David Baldacci', 'THE BOOK OF LONGINGS by Sue Monk Kidd', 'WRATH OF POSEIDON by Clive Cussler and Robin Burcell', 'THE GIVER OF STARS by Jojo Moyes', 'BIG SUMMER by Jennifer Weiner', 'ALL ADULTS HERE by Emma Straub', 'THE LAST TRIAL by Scott Turow', 'THE SILENT PATIENT by Alex Michaelides', 'IF IT BLEEDS by Stephen King'}\n",
      "\n",
      "Hardcover Nonfiction, June 14:\n",
      " {'THE SPLENDID AND THE VILE by Erik Larson', 'ME AND WHITE SUPREMACY by Layla F. Saad', 'HOW TO BE AN ANTIRACIST by Ibram X. Kendi', 'PLAGUE OF CORRUPTION by Judy Mikovits and Kent Heckenlively', 'EDUCATED by Tara Westover', 'FORTITUDE by Dan Crenshaw', 'HIDDEN VALLEY ROAD by Robert Kolker', 'BECOMING by Michelle Obama', 'THE CHIFFON TRENCHES by André Leon Talley', 'BREATH by James Nestor', 'AMERICAN CRUSADE by Pete Hegseth', 'HOLLYWOOD PARK by Mikel Jollett', 'MY VANISHING COUNTRY by Bakari Sellers', 'UNTAMED by Glennon Doyle', 'THE MAMBA MENTALITY by Kobe Bryant'}\n",
      "\n",
      "Paperback Nonfiction, June 14:\n",
      " {'SAPIENS by Yuval Noah Harari', 'THE COLOR OF LAW by Richard Rothstein', 'WHITE FRAGILITY by Robin DiAngelo', 'A WOMAN OF NO IMPORTANCE by Sonia Purnell', 'GRIT by Angela Duckworth', 'UNORTHODOX by Deborah Feldman', 'THE NEW JIM CROW by Michelle Alexander', 'THINKING, FAST AND SLOW by Daniel Kahneman', 'JUST MERCY by Bryan Stevenson', 'THE GREAT INFLUENZA by John M. Barry', 'BORN A CRIME by Trevor Noah', 'BRAIDING SWEETGRASS by Robin Wall Kimmerer', 'SO YOU WANT TO TALK ABOUT RACE by Ijeoma Oluo', 'OUTLIERS by Malcolm Gladwell', 'THE BODY KEEPS THE SCORE by Bessel van der Kolk'}\n",
      "\n",
      "Paperback Fiction, June 14:\n",
      " {'A GENTLEMAN IN MOSCOW by Amor Towles', 'LITTLE FIRES EVERYWHERE by Celeste Ng', 'NORMAL PEOPLE by Sally Rooney', 'THE TATTOOIST OF AUSCHWITZ by Heather Morris', 'THEN SHE WAS GONE by Lisa Jewell', 'THE NIGHTINGALE by Kristin Hannah', 'CIRCE by Madeline Miller', 'THE BOOK WOMAN OF TROUBLESOME CREEK by Kim Michele Richardson', 'CITY OF GIRLS by Elizabeth Gilbert', 'CALL ME BY YOUR NAME by André Aciman', 'THIS TENDER LAND by William Kent Krueger', 'BEFORE WE WERE YOURS by Lisa Wingate', 'THE WOMAN IN THE WINDOW by A.J. Finn', 'BEACH READ by Emily Henry', 'THE OVERSTORY by Richard Powers'}\n"
     ]
    }
   ],
   "source": [
    "# create a set from each nested list\n",
    "# concatenate the 'title' and 'author' list, using list comprehension and the zip() function\n",
    "# -> set([template for item1, item2 in zip(list1, list2)])\n",
    "hc_fiction_jun14 = set([i + ' ' + j for i, j in zip(bestseller_titles[0], bestseller_authors[0])]) \n",
    "hc_nonfiction_jun14 = set([i + ' ' + j for i, j in zip(bestseller_titles[1], bestseller_authors[1])])\n",
    "pb_nonfiction_jun14 = set([i + ' ' + j for i, j in zip(bestseller_titles[2], bestseller_authors[2])])\n",
    "pb_fiction_jun14 = set([i + ' ' + j for i, j in zip(bestseller_titles[3], bestseller_authors[3])])\n",
    "\n",
    "print('Hardcover Fiction, June 14:\\n', hc_fiction_jun14)\n",
    "print('\\nHardcover Nonfiction, June 14:\\n', hc_nonfiction_jun14)\n",
    "print('\\nPaperback Nonfiction, June 14:\\n', pb_nonfiction_jun14)\n",
    "print('\\nPaperback Fiction, June 14:\\n', pb_fiction_jun14)"
   ]
  },
  {
   "cell_type": "markdown",
   "metadata": {},
   "source": [
    "## Set Operations\n",
    "\n",
    "Now that we have declared multiple sets of books, let's make use of set operations to get insights about the bestsellers."
   ]
  },
  {
   "cell_type": "code",
   "execution_count": 6,
   "metadata": {},
   "outputs": [
    {
     "name": "stdout",
     "output_type": "stream",
     "text": [
      "A & B\n",
      "Following books match your criteria:\n",
      "{'THE COLOR OF LAW by Richard Rothstein', 'WHITE FRAGILITY by Robin DiAngelo', 'THE NEW JIM CROW by Michelle Alexander', 'JUST MERCY by Bryan Stevenson', 'THE GREAT INFLUENZA by John M. Barry', 'BORN A CRIME by Trevor Noah', 'SO YOU WANT TO TALK ABOUT RACE by Ijeoma Oluo', 'THE BODY KEEPS THE SCORE by Bessel van der Kolk'}\n",
      "\n"
     ]
    }
   ],
   "source": [
    "# create an intersection function to test if a books shows up in two categories\n",
    "def intersection(A , B): \n",
    "    inter = set(A) & set(B)\n",
    "    print('A & B\\nFollowing books match your criteria:\\n{}\\n'.format(inter))\n",
    "\n",
    "# call the function\n",
    "# show titles in paperback nonfiction, that were both on this and last week's bestseller list\n",
    "intersection(pb_nonfiction_jun21, pb_nonfiction_jun14)"
   ]
  },
  {
   "cell_type": "code",
   "execution_count": 7,
   "metadata": {},
   "outputs": [
    {
     "name": "stdout",
     "output_type": "stream",
     "text": [
      "A - B\n",
      "Following books match your criteria:\n",
      "{'WHY ARE ALL THE BLACK KIDS SITTING TOGETHER IN THE CAFETERIA? by Beverly Tatum', 'WAKING UP WHITE by Debby Irving', 'ELOQUENT RAGE by Brittney Cooper', 'RAISING WHITE KIDS by Jennifer Harvey', 'STAMPED FROM THE BEGINNING by Ibram X. Kendi', 'WHITE RAGE by Carol Anderson', \"MY GRANDMOTHER'S HANDS by Resmaa Menakem\"}\n",
      "\n"
     ]
    }
   ],
   "source": [
    "# create a difference function\n",
    "def difference(A , B): \n",
    "    diff = set(A) - set(B)\n",
    "    print('A - B\\nFollowing books match your criteria:\\n{}\\n'.format(diff))\n",
    "\n",
    "# call the function\n",
    "# show this week's newcomers in the paperback nonfiction category\n",
    "difference(pb_nonfiction_jun21, pb_nonfiction_jun14)"
   ]
  },
  {
   "cell_type": "code",
   "execution_count": 8,
   "metadata": {},
   "outputs": [
    {
     "name": "stdout",
     "output_type": "stream",
     "text": [
      "A | B\n",
      "Following books match your criteria:\n",
      "{'THE COLOR OF LAW by Richard Rothstein', 'WHITE FRAGILITY by Robin DiAngelo', 'A WOMAN OF NO IMPORTANCE by Sonia Purnell', 'GRIT by Angela Duckworth', 'UNORTHODOX by Deborah Feldman', 'THINKING, FAST AND SLOW by Daniel Kahneman', 'JUST MERCY by Bryan Stevenson', 'WHITE RAGE by Carol Anderson', \"MY GRANDMOTHER'S HANDS by Resmaa Menakem\", 'SAPIENS by Yuval Noah Harari', 'WHY ARE ALL THE BLACK KIDS SITTING TOGETHER IN THE CAFETERIA? by Beverly Tatum', 'THE NEW JIM CROW by Michelle Alexander', 'WAKING UP WHITE by Debby Irving', 'BORN A CRIME by Trevor Noah', 'THE GREAT INFLUENZA by John M. Barry', 'BRAIDING SWEETGRASS by Robin Wall Kimmerer', 'SO YOU WANT TO TALK ABOUT RACE by Ijeoma Oluo', 'ELOQUENT RAGE by Brittney Cooper', 'OUTLIERS by Malcolm Gladwell', 'RAISING WHITE KIDS by Jennifer Harvey', 'STAMPED FROM THE BEGINNING by Ibram X. Kendi', 'THE BODY KEEPS THE SCORE by Bessel van der Kolk'}\n",
      "\n"
     ]
    }
   ],
   "source": [
    "# create a union function to show two categories combined\n",
    "def union(A , B): \n",
    "    union = set(A) | set(B)\n",
    "    print('A | B\\nFollowing books match your criteria:\\n{}\\n'.format(union))\n",
    "\n",
    "# call the function\n",
    "# show paperback nonfiction titles of this and last week combined\n",
    "union(pb_nonfiction_jun21, pb_nonfiction_jun14)"
   ]
  },
  {
   "cell_type": "code",
   "execution_count": 9,
   "metadata": {},
   "outputs": [
    {
     "name": "stdout",
     "output_type": "stream",
     "text": [
      "{\"UNITED STATES OF SOCIALISM by Dinesh D'Souza\", 'HOW TO BE AN ANTIRACIST by Ibram X. Kendi', 'PLAGUE OF CORRUPTION by Judy Mikovits and Kent Heckenlively', 'THE COLOR OF LAW by Richard Rothstein', 'WHITE FRAGILITY by Robin DiAngelo', 'A WOMAN OF NO IMPORTANCE by Sonia Purnell', 'GRIT by Angela Duckworth', 'THINKING, FAST AND SLOW by Daniel Kahneman', 'BECOMING by Michelle Obama', 'FORTITUDE by Dan Crenshaw', \"THE DEVIANT'S WAR by Eric Cervini\", 'AMERICAN CRUSADE by Pete Hegseth', 'MY VANISHING COUNTRY by Bakari Sellers', 'WHITE RAGE by Carol Anderson', 'ME AND WHITE SUPREMACY by Layla F. Saad', 'EDUCATED by Tara Westover', 'WHY ARE ALL THE BLACK KIDS SITTING TOGETHER IN THE CAFETERIA? by Beverly Tatum', 'THE NEW JIM CROW by Michelle Alexander', 'WAKING UP WHITE by Debby Irving', 'BETWEEN THE WORLD AND ME by Ta-Nehisi Coates', 'BORN A CRIME by Trevor Noah', 'SO YOU WANT TO TALK ABOUT RACE by Ijeoma Oluo', 'ELOQUENT RAGE by Brittney Cooper', 'OUTLIERS by Malcolm Gladwell', 'STAMPED FROM THE BEGINNING by Ibram X. Kendi', 'THE BODY KEEPS THE SCORE by Bessel van der Kolk', 'THE MAMBA MENTALITY by Kobe Bryant', 'TALKING TO STRANGERS by Malcolm Gladwell', 'HUMANKIND by Rutger Bregman', 'THE CHIFFON TRENCHES by André Leon Talley', 'UNORTHODOX by Deborah Feldman', 'JUST MERCY by Bryan Stevenson', \"MY GRANDMOTHER'S HANDS by Resmaa Menakem\", 'THE SPLENDID AND THE VILE by Erik Larson', 'SAPIENS by Yuval Noah Harari', 'HIDDEN VALLEY ROAD by Robert Kolker', 'BREATH by James Nestor', 'THE GREAT INFLUENZA by John M. Barry', 'BRAIDING SWEETGRASS by Robin Wall Kimmerer', 'HOLLYWOOD PARK by Mikel Jollett', 'RAISING WHITE KIDS by Jennifer Harvey', 'UNTAMED by Glennon Doyle'}\n"
     ]
    }
   ],
   "source": [
    "# Show ALL nonfiction bestsellers, current and last week combined\n",
    "all_nonfiction = pb_nonfiction_jun21 | pb_nonfiction_jun14 | hc_nonfiction_jun21 | hc_nonfiction_jun14\n",
    "print(all_nonfiction)"
   ]
  },
  {
   "cell_type": "code",
   "execution_count": null,
   "metadata": {},
   "outputs": [],
   "source": []
  }
 ],
 "metadata": {
  "kernelspec": {
   "display_name": "Python 3",
   "language": "python",
   "name": "python3"
  },
  "language_info": {
   "codemirror_mode": {
    "name": "ipython",
    "version": 3
   },
   "file_extension": ".py",
   "mimetype": "text/x-python",
   "name": "python",
   "nbconvert_exporter": "python",
   "pygments_lexer": "ipython3",
   "version": "3.7.4"
  }
 },
 "nbformat": 4,
 "nbformat_minor": 2
}
